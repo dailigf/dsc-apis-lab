{
 "cells": [
  {
   "cell_type": "markdown",
   "metadata": {},
   "source": [
    "# APIs - Cumulative Lab\n",
    "\n",
    "\n",
    "## Introduction \n",
    "\n",
    "We've seen how the Yelp API works and how to create basic visualizations using Folium. It's time to put those skills to work in order to create a working map! Taking things a step further, you'll also independently explore how to perform pagination in order to retrieve a full results set from the Yelp API.\n",
    "\n",
    "## Objectives\n",
    "\n",
    "You will be able to: \n",
    "\n",
    "* Practice using functions to organize your code\n",
    "* Use pagination to retrieve all results from an API query\n",
    "* Practice parsing data returned from an API query\n",
    "* Practice interpreting visualizations of a dataset\n",
    "* Create maps using Folium"
   ]
  },
  {
   "cell_type": "markdown",
   "metadata": {},
   "source": [
    "## Your Task: Query Yelp for All Businesses in a Category and Analyze the Results\n",
    "\n",
    "![restaurant counter with pizza](images/restaurant_counter.jpg)\n",
    "\n",
    "Photo by <a href=\"https://unsplash.com/@jordanmadrid?utm_source=unsplash&utm_medium=referral&utm_content=creditCopyText\">Jordan Madrid</a> on <a href=\"/s/photos/pizza-restaurant?utm_source=unsplash&utm_medium=referral&utm_content=creditCopyText\">Unsplash</a>"
   ]
  },
  {
   "cell_type": "markdown",
   "metadata": {},
   "source": [
    "### Overview\n",
    "\n",
    "You've now worked with some API calls, but we have yet to see how to retrieve a more complete dataset in a programmatic manner. In this lab, you will write a query of businesses on Yelp, then use *pagination* to retrieve all possible results for that query. Then you will create a summary of your findings, including a Folium map of the geographic locations of those businesses.\n",
    "\n",
    "### Technical Details\n",
    "\n",
    "Returning to the Yelp API, the [documentation](https://www.yelp.com/developers/documentation/v3/business_search) also provides us details regarding the **API limits**. These often include details about the number of requests a user is allowed to make within a specified time limit and the maximum number of results to be returned. In this case, we are told that any request has a **maximum of 50 results per request** and defaults to 20. Furthermore, any search will be limited to a **total of 1000 results**. To retrieve all 1000 of these results, we would have to page through the results piece by piece, retrieving 50 at a time. Processes such as these are often referred to as pagination.\n",
    "\n",
    "Also, be mindful of the **API** ***rate*** **limits**. You can only make **5000 requests per day** and are also can make requests too fast. Start prototyping small before running a loop that could be faulty. You can also use `time.sleep(n)` to add delays. For more details see https://www.yelp.com/developers/documentation/v3/rate_limiting.\n",
    "\n",
    "In this lab, you will define a search and then paginate over the results to retrieve all of the results. You'll then parse these responses as a list of dictionaries (for further exploration) and create a map using Folium to visualize the results geographically.\n",
    "\n",
    "### Requirements\n",
    "\n",
    "#### 1. Make the Initial Request\n",
    "\n",
    "Start by filling in your API key to make the initial request to the business search API. Investigate the structure of the response you get back and start figuring out how you will extract the relevant information.\n",
    "\n",
    "#### 2. Add Pagination\n",
    "\n",
    "Using loops and functions, collect the maximum number of results for your query from the API.\n",
    "\n",
    "#### 3. Perform Exploratory Analysis\n",
    "\n",
    "Interpret visualizations related to the price range, average rating, and number of reviews for all query results.\n",
    "\n",
    "#### 4. Create a Folium Map\n",
    "\n",
    "Using latitude and longitude data, plot the query results on an interactive map."
   ]
  },
  {
   "cell_type": "markdown",
   "metadata": {},
   "source": [
    "## 1. Make the Initial Request\n",
    "\n",
    "### Querying\n",
    "\n",
    "Start by making an initial request to the Yelp API. Your search must include at least 2 parameters: **term** and **location**. For example, you might search for pizza restaurants in NYC. The term and location is up to you but make the request below.\n",
    "\n",
    "Use the `requests` library ([documentation here](https://requests.readthedocs.io/en/master/user/quickstart/#make-a-request)).\n",
    "\n",
    "You'll also need an API key from Yelp. If you haven't done this already, go to the Yelp [Manage App page](https://www.yelp.com/developers/v3/manage_app) and create a new app (after making an account if you haven't already)."
   ]
  },
  {
   "cell_type": "code",
   "execution_count": 56,
   "metadata": {},
   "outputs": [
    {
     "data": {
      "text/plain": [
       "<Response [200]>"
      ]
     },
     "execution_count": 56,
     "metadata": {},
     "output_type": "execute_result"
    }
   ],
   "source": [
    "# Replace None with appropriate code\n",
    "\n",
    "# Import the requests library\n",
    "import requests\n",
    "\n",
    "# Get this from the \"Manage App\" page. Make sure you set them\n",
    "# back to None before pushing this to GitHub, since otherwise\n",
    "# your credentials will be compromised\n",
    "api_key = \"KSv79lluZbqOsUES3jdckVQNAGcn2AwByKBMiHlL_kNZGMOuLl8yL81_TQCOt6km53mLnjykVo4syeLg9p_SyytGgdxD8q7xq4XwYiJDl6zMKJQanvh6mbu-8lK3YnYx\"\n",
    "\n",
    "# These can be whatever you want! But the solution uses \"pizza\"\n",
    "# and \"New York NY\" if you want to compare your work directly\n",
    "term = \"pizza\"\n",
    "location = \"New York NY\"\n",
    "\n",
    "# Set up params for request\n",
    "url = \"https://api.yelp.com/v3/businesses/search\"\n",
    "headers = {\n",
    "    \"Authorization\": \"Bearer {}\".format(api_key)\n",
    "}\n",
    "url_params = {\n",
    "    \"term\": term.replace(\" \", \"+\"),\n",
    "    \"location\": location.replace(\" \", \"+\")\n",
    "}\n",
    "\n",
    "# Make the request using requests.get, passing in\n",
    "# url, headers=headers, and params=url_params\n",
    "response = requests.get(url, headers=headers, params=url_params)\n",
    "\n",
    "# Confirm we got a 200 response\n",
    "response"
   ]
  },
  {
   "cell_type": "code",
   "execution_count": 57,
   "metadata": {},
   "outputs": [
    {
     "data": {
      "text/plain": [
       "dict_keys(['businesses', 'total', 'region'])"
      ]
     },
     "execution_count": 57,
     "metadata": {},
     "output_type": "execute_result"
    }
   ],
   "source": [
    "# Run this cell without changes\n",
    "\n",
    "# Get the response body in JSON format\n",
    "response_json = response.json()\n",
    "# View the keys\n",
    "response_json.keys()"
   ]
  },
  {
   "cell_type": "markdown",
   "metadata": {},
   "source": [
    "### Extracting Data\n",
    "\n",
    "Now, retrieve the value associated with the `'businesses'` key, and inspect its contents."
   ]
  },
  {
   "cell_type": "code",
   "execution_count": 4,
   "metadata": {},
   "outputs": [
    {
     "data": {
      "text/plain": [
       "[{'id': 'zj8Lq1T8KIC5zwFief15jg',\n",
       "  'alias': 'prince-street-pizza-new-york-2',\n",
       "  'name': 'Prince Street Pizza',\n",
       "  'image_url': 'https://s3-media4.fl.yelpcdn.com/bphoto/HVjttLctuIzKL3LSlsRf-w/o.jpg',\n",
       "  'is_closed': False,\n",
       "  'url': 'https://www.yelp.com/biz/prince-street-pizza-new-york-2?adjust_creative=gIKPZChedihb-beGTCXDlg&utm_campaign=yelp_api_v3&utm_medium=api_v3_business_search&utm_source=gIKPZChedihb-beGTCXDlg',\n",
       "  'review_count': 4381,\n",
       "  'categories': [{'alias': 'pizza', 'title': 'Pizza'},\n",
       "   {'alias': 'italian', 'title': 'Italian'}],\n",
       "  'rating': 4.5,\n",
       "  'coordinates': {'latitude': 40.72308755605564,\n",
       "   'longitude': -73.99453001177575},\n",
       "  'transactions': ['pickup', 'delivery'],\n",
       "  'price': '$',\n",
       "  'location': {'address1': '27 Prince St',\n",
       "   'address2': None,\n",
       "   'address3': '',\n",
       "   'city': 'New York',\n",
       "   'zip_code': '10012',\n",
       "   'country': 'US',\n",
       "   'state': 'NY',\n",
       "   'display_address': ['27 Prince St', 'New York, NY 10012']},\n",
       "  'phone': '+12129664100',\n",
       "  'display_phone': '(212) 966-4100',\n",
       "  'distance': 1961.8771417367063},\n",
       " {'id': 'ysqgdbSrezXgVwER2kQWKA',\n",
       "  'alias': 'julianas-brooklyn-3',\n",
       "  'name': \"Juliana's\",\n",
       "  'image_url': 'https://s3-media2.fl.yelpcdn.com/bphoto/clscwgOF9_Ecq-Rwsq7jyQ/o.jpg',\n",
       "  'is_closed': False,\n",
       "  'url': 'https://www.yelp.com/biz/julianas-brooklyn-3?adjust_creative=gIKPZChedihb-beGTCXDlg&utm_campaign=yelp_api_v3&utm_medium=api_v3_business_search&utm_source=gIKPZChedihb-beGTCXDlg',\n",
       "  'review_count': 2465,\n",
       "  'categories': [{'alias': 'pizza', 'title': 'Pizza'}],\n",
       "  'rating': 4.5,\n",
       "  'coordinates': {'latitude': 40.70274718768062,\n",
       "   'longitude': -73.99343490196397},\n",
       "  'transactions': ['delivery'],\n",
       "  'price': '$$',\n",
       "  'location': {'address1': '19 Old Fulton St',\n",
       "   'address2': '',\n",
       "   'address3': '',\n",
       "   'city': 'Brooklyn',\n",
       "   'zip_code': '11201',\n",
       "   'country': 'US',\n",
       "   'state': 'NY',\n",
       "   'display_address': ['19 Old Fulton St', 'Brooklyn, NY 11201']},\n",
       "  'phone': '+17185966700',\n",
       "  'display_phone': '(718) 596-6700',\n",
       "  'distance': 308.56984360837544}]"
      ]
     },
     "execution_count": 4,
     "metadata": {},
     "output_type": "execute_result"
    }
   ],
   "source": [
    "# Replace None with appropriate code\n",
    "\n",
    "# Retrieve the value from response_json\n",
    "businesses = response_json['businesses']\n",
    "\n",
    "# View the first 2 records\n",
    "businesses[:2]"
   ]
  },
  {
   "cell_type": "markdown",
   "metadata": {},
   "source": [
    "### Preparing Data\n",
    "\n",
    "Write a function `prepare_data` that takes in a list of dictionaries like `businesses` and returns a copy that has been prepared for analysis:\n",
    "\n",
    "1. The `coordinates` key-value pair has been converted into two separate key-value pairs, `latitude` and `longitude`\n",
    "2. All other key-value pairs except for `name`, `review_count`, `rating`, and `price` have been dropped\n",
    "3. All dictionaries missing one of the relevant keys or containing null values have been dropped\n",
    "\n",
    "In other words, the final keys for each dictionary should be `name`, `review_count`, `rating`, `price`, `latitude`, and `longitude`.\n",
    "\n",
    "Complete the function in the cell below:"
   ]
  },
  {
   "cell_type": "code",
   "execution_count": 58,
   "metadata": {},
   "outputs": [
    {
     "data": {
      "text/plain": [
       "[{'name': 'E.A.T.',\n",
       "  'review_count': 346,\n",
       "  'rating': 2.0,\n",
       "  'price': '$$',\n",
       "  'latitude': 40.77737,\n",
       "  'longitude': -73.96154},\n",
       " {'name': 'Mahsil',\n",
       "  'review_count': 34,\n",
       "  'rating': 4.0,\n",
       "  'price': '$$',\n",
       "  'latitude': 40.76342,\n",
       "  'longitude': -73.81408},\n",
       " {'name': \"Nona's Pizza\",\n",
       "  'review_count': 73,\n",
       "  'rating': 4.0,\n",
       "  'price': '$',\n",
       "  'latitude': 40.910159,\n",
       "  'longitude': -73.902891},\n",
       " {'name': \"G&J's Pizzeria\",\n",
       "  'review_count': 66,\n",
       "  'rating': 4.0,\n",
       "  'price': '$',\n",
       "  'latitude': 40.7903349463747,\n",
       "  'longitude': -73.946079551947},\n",
       " {'name': \"Gino's Pizza\",\n",
       "  'review_count': 193,\n",
       "  'rating': 3.5,\n",
       "  'price': '$$',\n",
       "  'latitude': 40.77535,\n",
       "  'longitude': -73.95121},\n",
       " {'name': \"Mancini's Wood-Fired Pizza\",\n",
       "  'review_count': 127,\n",
       "  'rating': 4.5,\n",
       "  'price': '$',\n",
       "  'latitude': 40.62207,\n",
       "  'longitude': -74.02591},\n",
       " {'name': \"Patricia's\",\n",
       "  'review_count': 569,\n",
       "  'rating': 4.0,\n",
       "  'price': '$$',\n",
       "  'latitude': 40.84912,\n",
       "  'longitude': -73.8533099},\n",
       " {'name': 'The Best of New York Food',\n",
       "  'review_count': 103,\n",
       "  'rating': 3.5,\n",
       "  'price': '$',\n",
       "  'latitude': 40.70656,\n",
       "  'longitude': -74.00618},\n",
       " {'name': 'Piñons Pizza Company',\n",
       "  'review_count': 41,\n",
       "  'rating': 4.5,\n",
       "  'price': '$$',\n",
       "  'latitude': 40.8756015,\n",
       "  'longitude': -73.597408166},\n",
       " {'name': 'Arancini Bros',\n",
       "  'review_count': 51,\n",
       "  'rating': 4.0,\n",
       "  'price': '$',\n",
       "  'latitude': 40.7180351,\n",
       "  'longitude': -73.9882738},\n",
       " {'name': 'Spicy Pizza',\n",
       "  'review_count': 33,\n",
       "  'rating': 3.5,\n",
       "  'price': '$',\n",
       "  'latitude': 40.7448731218168,\n",
       "  'longitude': -73.9208319089972},\n",
       " {'name': \"Giovanni's Pizza Restaurant\",\n",
       "  'review_count': 22,\n",
       "  'rating': 3.5,\n",
       "  'price': '$$',\n",
       "  'latitude': 40.741315,\n",
       "  'longitude': -73.917955},\n",
       " {'name': 'Bodrum Mediterranean Restaurant',\n",
       "  'review_count': 457,\n",
       "  'rating': 4.0,\n",
       "  'price': '$$',\n",
       "  'latitude': 40.78935,\n",
       "  'longitude': -73.97411},\n",
       " {'name': 'Morris Avenue Pizza',\n",
       "  'review_count': 10,\n",
       "  'rating': 3.5,\n",
       "  'price': '$',\n",
       "  'latitude': 40.82626,\n",
       "  'longitude': -73.91789}]"
      ]
     },
     "execution_count": 58,
     "metadata": {},
     "output_type": "execute_result"
    }
   ],
   "source": [
    "# Replace None with appropriate code\n",
    "\n",
    "def prepare_data(data_list):\n",
    "    \"\"\"\n",
    "    This function takes in a list of dictionaries and prepares it\n",
    "    for analysis\n",
    "    \"\"\"\n",
    "    \n",
    "    # Make a new list to hold results\n",
    "    results = []\n",
    "    \n",
    "    for business_data in data_list:\n",
    "    \n",
    "        # Make a new dictionary to hold prepared data for this business\n",
    "        prepared_data = {}\n",
    "        # Extract name, review_count, rating, and price key-value pairs\n",
    "        # from business_data and add to prepared_data\n",
    "        # If a key is not present in business_data, add it to prepared_data\n",
    "        # with an associated value of None\n",
    "        prepared_data['name'] = business_data['name'] if business_data['name'] else None\n",
    "        prepared_data['review_count'] = business_data['review_count'] if business_data['review_count'] else None\n",
    "        prepared_data['rating'] = business_data['rating'] if business_data['rating'] else None\n",
    "        if \"price\" in list(business_data.keys()):\n",
    "            prepared_data['price'] = business_data['price'] if business_data['price'] else None\n",
    "        else:\n",
    "            prepared_data['price'] = None\n",
    "            \n",
    "        # Parse and add latitude and longitude columns\n",
    "        if business_data['coordinates']['latitude']:\n",
    "            prepared_data['latitude'] = business_data['coordinates']['latitude']\n",
    "        else:\n",
    "            prepared_data['latitude'] = None\n",
    "            \n",
    "        if business_data['coordinates']['longitude']:\n",
    "            prepared_data['longitude'] = business_data['coordinates']['longitude']\n",
    "        else:\n",
    "            prepared_data['longitude'] = None\n",
    "        \n",
    "        # Add to list if all values are present\n",
    "        if all(prepared_data.values()):\n",
    "            results.append(prepared_data)\n",
    "    \n",
    "    return results\n",
    "    \n",
    "# Test out function\n",
    "prepared_businesses = prepare_data(businesses)\n",
    "prepared_businesses[:5]\n",
    "prepared_businesses"
   ]
  },
  {
   "cell_type": "markdown",
   "metadata": {},
   "source": [
    "Check that your function created the correct keys:"
   ]
  },
  {
   "cell_type": "code",
   "execution_count": 59,
   "metadata": {},
   "outputs": [],
   "source": [
    "# Run this cell without changes\n",
    "\n",
    "assert sorted(list(prepared_businesses[0].keys())) == ['latitude', 'longitude', 'name', 'price', 'rating', 'review_count']"
   ]
  },
  {
   "cell_type": "markdown",
   "metadata": {},
   "source": [
    "The following code will differ depending on your query, but we expect there to be 20 businesses in the original list, and potentially fewer in the prepared list (if any of them were missing data):"
   ]
  },
  {
   "cell_type": "code",
   "execution_count": 60,
   "metadata": {},
   "outputs": [
    {
     "name": "stdout",
     "output_type": "stream",
     "text": [
      "Original: 20\n",
      "Prepared: 14\n"
     ]
    }
   ],
   "source": [
    "# Run this cell without changes\n",
    "print(\"Original:\", len(businesses))\n",
    "print(\"Prepared:\", len(prepared_businesses))"
   ]
  },
  {
   "cell_type": "markdown",
   "metadata": {},
   "source": [
    "Great! We will reuse this function once we have retrieved the full dataset."
   ]
  },
  {
   "cell_type": "markdown",
   "metadata": {},
   "source": [
    "## 2. Add Pagination\n",
    "\n",
    "Now that you are able to extract information from one page of the response, let's figure out how to request as many pages as possible.\n",
    "\n",
    "### Determining the Total\n",
    "\n",
    "Depending on the number of total results for your query, you will either retrieve all of the results, or just the first 1000 (if there are more than 1000 total).\n",
    "\n",
    "We can find the total number of results using the `\"total\"` key:"
   ]
  },
  {
   "cell_type": "code",
   "execution_count": 61,
   "metadata": {},
   "outputs": [
    {
     "data": {
      "text/plain": [
       "12100"
      ]
     },
     "execution_count": 61,
     "metadata": {},
     "output_type": "execute_result"
    }
   ],
   "source": [
    "# Run this cell without changes\n",
    "response_json[\"total\"]"
   ]
  },
  {
   "cell_type": "markdown",
   "metadata": {},
   "source": [
    "(This is specific to the implementation of the Yelp API. Some APIs will just tell you that there are more pages, or will tell you the number of pages total, rather than the total number of results. If you're not sure, always check the documentation.)\n",
    "\n",
    "In the cell below, assign the variable `total` to either the value shown above (if it is less than 1000), or 1000."
   ]
  },
  {
   "cell_type": "code",
   "execution_count": 33,
   "metadata": {},
   "outputs": [],
   "source": [
    "# Replace None with appropriate code\n",
    "total = response_json[\"total\"] if response_json[\"total\"] > 1000 else 1000"
   ]
  },
  {
   "cell_type": "markdown",
   "metadata": {},
   "source": [
    "### Calculating the Offsets\n",
    "\n",
    "The documentation states in the parameters section:\n",
    "\n",
    "> **Name**: `limit`, **Type:** int, **Description:** Optional. Number of business results to return. By default, it will return 20. Maximum is 50.\n",
    "\n",
    "> **Name**: `offset`, **Type:** int, **Description:** Optional. Offset the list of returned business results by this amount.\n",
    "\n",
    "So, to get the most results with the fewest API calls we want to set a limit of 50 every time. If, say, we wanted to get 210 total results, that would mean:\n",
    "\n",
    "1. Offset of `0` (first 50 records)\n",
    "2. Offset of `50` (second 50 records)\n",
    "3. Offset of `100` (third 50 records)\n",
    "4. Offset of `150` (fourth 50 records)\n",
    "5. Offset of `200` (final 10 records)\n",
    "\n",
    "In the cell below, create a function `get_offsets` that takes in a total and returns a list of offsets for that total. You can assume that there is a limit of 50 every time.\n",
    "\n",
    "*Hint: you can use `range` ([documentation here](https://docs.python.org/3.3/library/stdtypes.html?highlight=range#range)) to do this in one line of code. Just make the returned result is a list.*"
   ]
  },
  {
   "cell_type": "code",
   "execution_count": 10,
   "metadata": {},
   "outputs": [],
   "source": [
    "# Replace None with appropriate code\n",
    "def get_offsets(total):\n",
    "    \"\"\"\n",
    "    Get a list of offsets needed to get all pages\n",
    "    of data up until the total\n",
    "    \"\"\"\n",
    "    if total % 50 == 0: # No remainder, evenly divisible\n",
    "        return [i * 50 for i in range(int(total / 50))]\n",
    "    else: # remainder exists\n",
    "        return [i * 50 for i in range(1 + int(total / 50))]"
   ]
  },
  {
   "cell_type": "markdown",
   "metadata": {},
   "source": [
    "Check that your function works below:"
   ]
  },
  {
   "cell_type": "code",
   "execution_count": 11,
   "metadata": {},
   "outputs": [],
   "source": [
    "# Run this cell without changes\n",
    "\n",
    "assert get_offsets(200) == [0, 50, 100, 150]\n",
    "assert get_offsets(210) == [0, 50, 100, 150, 200]"
   ]
  },
  {
   "cell_type": "markdown",
   "metadata": {},
   "source": [
    "### Putting It All Together\n",
    "\n",
    "Recall that the following variable has already been declared for you:"
   ]
  },
  {
   "cell_type": "code",
   "execution_count": 34,
   "metadata": {},
   "outputs": [
    {
     "data": {
      "text/plain": [
       "{'term': 'pizza', 'location': 'New+York+NY'}"
      ]
     },
     "execution_count": 34,
     "metadata": {},
     "output_type": "execute_result"
    }
   ],
   "source": [
    "# Run this cell without changes\n",
    "url_params"
   ]
  },
  {
   "cell_type": "markdown",
   "metadata": {},
   "source": [
    "We'll go ahead and also specify that the limit should be 50 every time:"
   ]
  },
  {
   "cell_type": "code",
   "execution_count": 35,
   "metadata": {},
   "outputs": [],
   "source": [
    "# Run this cell without changes\n",
    "url_params[\"limit\"] = 50"
   ]
  },
  {
   "cell_type": "markdown",
   "metadata": {},
   "source": [
    "In order to modify the offset, you'll need to add it to `url_params` with the key `\"offset\"` and whatever value is needed.\n",
    "\n",
    "In the cell below, write code that:\n",
    "\n",
    "* Creates an empty list for the full prepared dataset\n",
    "* Loops over all of the offsets from `get_offsets` and makes an API call each time with the specified offset\n",
    "* Calls `prepare_data` to get a cleaned version of the result of each API call\n",
    "* Extends the full prepared dataset list with each query's prepared dataset"
   ]
  },
  {
   "cell_type": "code",
   "execution_count": 62,
   "metadata": {},
   "outputs": [
    {
     "data": {
      "text/plain": [
       "308"
      ]
     },
     "execution_count": 62,
     "metadata": {},
     "output_type": "execute_result"
    }
   ],
   "source": [
    "# Replace None with appropriate code\n",
    "import time\n",
    "# Create an empty list for the full prepared dataset\n",
    "full_dataset = []\n",
    "\n",
    "get_offsets(210)\n",
    "\n",
    "for offset in get_offsets(total):\n",
    "    # Add or update the \"offset\" key-value pair in url_params\n",
    "    url_params[\"offset\"] = offset\n",
    "    \n",
    "    # Make the query and get the response\n",
    "    response = requests.get(url, headers=headers, params=url_params)\n",
    "    \n",
    "    # Get the response body in JSON format\n",
    "    response_json = response.json()\n",
    "    \n",
    "    if \"businesses\" in list(response_json.keys()):\n",
    "        # Get the list of businesses from the response_json\n",
    "        businesses = response_json['businesses']\n",
    "        \n",
    "        # Call the prepare_data function to get a list of processed data\n",
    "        prepared_businesses = prepare_data(businesses)\n",
    "        \n",
    "        # Extend full_dataset with this list (don't append, or you'll get\n",
    "        # a list of lists instead of a flat list)\n",
    "        full_dataset.extend(prepared_businesses)\n",
    "\n",
    "# Check the length of the full dataset. It will be up to `total`,\n",
    "# potentially less if there were missing values\n",
    "len(full_dataset)"
   ]
  },
  {
   "cell_type": "markdown",
   "metadata": {},
   "source": [
    "This code may take up to a few minutes to run.\n",
    "\n",
    "If you get an error trying to get the response body in JSON format, try adding `time.sleep(1)` right after the `requests.get` line, so your code will sleep for 1 second between each API call."
   ]
  },
  {
   "cell_type": "markdown",
   "metadata": {},
   "source": [
    "## 3. Perform Exploratory Analysis\n",
    "\n",
    "Take the businesses from the previous question and do an initial exploratory analysis. We have provided some plots for you to interpret:"
   ]
  },
  {
   "cell_type": "code",
   "execution_count": 63,
   "metadata": {},
   "outputs": [
    {
     "data": {
      "image/png": "[encoded data removed]",
      "text/plain": [
       "<Figure size 1152x360 with 3 Axes>"
      ]
     },
     "metadata": {
      "needs_background": "light"
     },
     "output_type": "display_data"
    }
   ],
   "source": [
    "# Run this cell without changes\n",
    "from collections import Counter\n",
    "import matplotlib.pyplot as plt\n",
    "%matplotlib inline\n",
    "\n",
    "fig, (ax1, ax2, ax3) = plt.subplots(ncols=3, figsize=(16, 5))\n",
    "\n",
    "# Plot distribution of number of reviews\n",
    "all_review_counts = [x[\"review_count\"] for x in full_dataset]\n",
    "ax1.hist(all_review_counts)\n",
    "ax1.set_title(\"Review Count Distribution\")\n",
    "ax1.set_xlabel(\"Number of Reviews\")\n",
    "ax1.set_ylabel(\"Number of Businesses\")\n",
    "\n",
    "# Plot rating distribution\n",
    "all_ratings = [x[\"rating\"] for x in full_dataset]\n",
    "rating_counter = Counter(all_ratings)\n",
    "rating_keys = sorted(rating_counter.keys())\n",
    "ax2.bar(rating_keys, [rating_counter[key] for key in rating_keys])\n",
    "ax2.set_title(\"Rating Distribution\")\n",
    "ax2.set_xlabel(\"Rating\")\n",
    "ax2.set_ylabel(\"Number of Businesses\")\n",
    "\n",
    "# Plot price distribution\n",
    "all_prices = [x[\"price\"].replace(\"$\", r\"\\$\") for x in full_dataset]\n",
    "price_counter = Counter(all_prices)\n",
    "price_keys = sorted(price_counter.keys())\n",
    "ax3.bar(price_keys, [price_counter[key] for key in price_keys])\n",
    "ax3.set_title(\"Price Distribution\")\n",
    "ax3.set_xlabel(\"Price Category\")\n",
    "ax3.set_ylabel(\"Number of Businesses\");"
   ]
  },
  {
   "cell_type": "markdown",
   "metadata": {},
   "source": [
    "Describe the distributions displayed above and interpret them in the context of your query. (Your answer may differ from the solution branch depending on your query.)"
   ]
  },
  {
   "cell_type": "code",
   "execution_count": 64,
   "metadata": {},
   "outputs": [
    {
     "data": {
      "text/plain": [
       "'\\n1.  Most businesses have less than 2000 reviews.\\n2.  The rating distribution is almost a normal distribution.  The middle/median appears to be 4 stars\\n3.  Most businesses are relatively cheap, with their price category being $ or $$\\n'"
      ]
     },
     "execution_count": 64,
     "metadata": {},
     "output_type": "execute_result"
    }
   ],
   "source": [
    "# Replace None with appropriate text\n",
    "\"\"\"\n",
    "1.  Most businesses have less than 2000 reviews.\n",
    "2.  The rating distribution is almost a normal distribution.  The middle/median appears to be 4 stars\n",
    "3.  Most businesses are relatively cheap, with their price category being $ or $$\n",
    "\"\"\""
   ]
  },
  {
   "cell_type": "markdown",
   "metadata": {},
   "source": [
    "In the cell below, we also plot the rating distributions by price. In this setup, a price of one dollar sign is \"lower price\" and everything else is \"higher price\"."
   ]
  },
  {
   "cell_type": "code",
   "execution_count": 65,
   "metadata": {},
   "outputs": [
    {
     "data": {
      "image/png": "[encoded data removed]",
      "text/plain": [
       "<Figure size 432x288 with 1 Axes>"
      ]
     },
     "metadata": {
      "needs_background": "light"
     },
     "output_type": "display_data"
    }
   ],
   "source": [
    "# Run this cell without changes\n",
    "\n",
    "higher_price = []\n",
    "lower_price = []\n",
    "for row in full_dataset:\n",
    "    if row[\"price\"] == \"$\":\n",
    "        lower_price.append(row[\"rating\"])\n",
    "    else:\n",
    "        higher_price.append(row[\"rating\"])\n",
    "        \n",
    "fig, ax = plt.subplots()\n",
    "\n",
    "ax.hist([higher_price, lower_price], label=[\"higher price\", \"lower price\"], density=True)\n",
    "\n",
    "ax.legend();"
   ]
  },
  {
   "cell_type": "markdown",
   "metadata": {},
   "source": [
    "Is a higher price associated with a higher rating? (No need for any additional math/statistics, just interpret what you see in the plot.)"
   ]
  },
  {
   "cell_type": "code",
   "execution_count": null,
   "metadata": {},
   "outputs": [],
   "source": [
    "# Replace None with appropriate text\n",
    "\"\"\"\n",
    "Restaurantw with higher price have higher ratings, in histogram, higher priced restaurants have a higher number of \n",
    "high ratings(3.5- 5.0)\n",
    "\"\"\""
   ]
  },
  {
   "cell_type": "markdown",
   "metadata": {},
   "source": [
    "Finally, let's look at ratings vs. review counts:"
   ]
  },
  {
   "cell_type": "code",
   "execution_count": 66,
   "metadata": {},
   "outputs": [
    {
     "data": {
      "image/png": "[encoded data removed]",
      "text/plain": [
       "<Figure size 1152x360 with 1 Axes>"
      ]
     },
     "metadata": {
      "needs_background": "light"
     },
     "output_type": "display_data"
    }
   ],
   "source": [
    "# Run this cell without changes\n",
    "fig, ax = plt.subplots(figsize=(16,5))\n",
    "\n",
    "ax.scatter(all_review_counts, all_ratings, alpha=0.2)\n",
    "ax.set_xlabel(\"Number of Reviews\")\n",
    "ax.set_ylabel(\"Rating\")\n",
    "# \"zoom in\" to a subset of review counts\n",
    "ax.set_xlim(left=0, right=1000);"
   ]
  },
  {
   "cell_type": "markdown",
   "metadata": {},
   "source": [
    "Is a higher number of reviews associated with a higher rating?"
   ]
  },
  {
   "cell_type": "code",
   "execution_count": null,
   "metadata": {},
   "outputs": [],
   "source": [
    "# Replace None with appropriate text\n",
    "\"\"\"\n",
    "Yes, it looks like restaurants with high ratings were review more.\n",
    "\"\"\""
   ]
  },
  {
   "cell_type": "markdown",
   "metadata": {},
   "source": [
    "## 4. Create a Folium Map\n",
    "\n",
    "Make a map using Folium of the businesses you retrieved. Be sure to also add popups to the markers giving some basic information such as name, rating and price.\n",
    "\n",
    "You can center the map around the latitude and longitude of the first item in `full_dataset`."
   ]
  },
  {
   "cell_type": "code",
   "execution_count": 77,
   "metadata": {},
   "outputs": [
    {
     "name": "stdout",
     "output_type": "stream",
     "text": [
      "dict_keys(['name', 'review_count', 'rating', 'price', 'latitude', 'longitude'])\n"
     ]
    },
    {
     "data": {
      "text/html": [
       "<div style=\"width:100%;\"><div style=\"position:relative;width:100%;height:0;padding-bottom:60%;\"><span style=\"color:#565656\">Make this Notebook Trusted to load map: File -> Trust Notebook</span><iframe src=\"about:blank\" style=\"position:absolute;width:100%;height:100%;left:0;top:0;border:none !important;\" data-html=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 onload=\"this.contentDocument.open();this.contentDocument.write(atob(this.getAttribute('data-html')));this.contentDocument.close();\" allowfullscreen webkitallowfullscreen mozallowfullscreen></iframe></div></div>"
      ],
      "text/plain": [
       "<folium.folium.Map at 0x7f7c201b42b0>"
      ]
     },
     "execution_count": 77,
     "metadata": {},
     "output_type": "execute_result"
    }
   ],
   "source": [
    "# Replace None with appropriate code\n",
    "\n",
    "# Import the library\n",
    "import folium\n",
    "\n",
    "print(full_dataset[0].keys())\n",
    "# Set up center latitude and longitude\n",
    "center_lat = full_dataset[0]['latitude']\n",
    "center_long = full_dataset[0]['longitude']\n",
    "\n",
    "# Initialize map with center lat and long\n",
    "yelp_map = folium.Map([center_lat, center_long], zoom_start=13)\n",
    "\n",
    "# Adjust this limit to see more or fewer businesses\n",
    "limit=100\n",
    "\n",
    "for business in full_dataset[:limit]:\n",
    "    # Extract information about business\n",
    "    lat = business['latitude']\n",
    "    long = business['longitude']\n",
    "    name = business['name']\n",
    "    rating = business['rating']\n",
    "    price = business['price']\n",
    "    details = \"{}\\nPrice: {} Rating:{}\".format(name,price,rating)\n",
    "    \n",
    "    # Create popup with relevant details\n",
    "    popup = folium.Popup(details, parse_html=True)\n",
    "    \n",
    "    # Create marker with relevant lat/long and popup\n",
    "    marker = folium.Marker(location=[lat, long], popup=popup)\n",
    "    \n",
    "    marker.add_to(yelp_map)\n",
    "    \n",
    "yelp_map"
   ]
  },
  {
   "cell_type": "markdown",
   "metadata": {},
   "source": [
    "## Summary\n",
    "\n",
    "Nice work! In this lab, you've made multiple API calls to Yelp in order to paginate through a results set, performing some basic exploratory analysis and then creating a nice interactive map to display the results using Folium! Well done!"
   ]
  },
  {
   "cell_type": "code",
   "execution_count": null,
   "metadata": {},
   "outputs": [],
   "source": []
  }
 ],
 "metadata": {
  "kernelspec": {
   "display_name": "Python 3",
   "language": "python",
   "name": "python3"
  },
  "language_info": {
   "codemirror_mode": {
    "name": "ipython",
    "version": 3
   },
   "file_extension": ".py",
   "mimetype": "text/x-python",
   "name": "python",
   "nbconvert_exporter": "python",
   "pygments_lexer": "ipython3",
   "version": "3.8.5"
  },
  "toc": {
   "base_numbering": 1,
   "nav_menu": {},
   "number_sections": true,
   "sideBar": true,
   "skip_h1_title": false,
   "title_cell": "Table of Contents",
   "title_sidebar": "Contents",
   "toc_cell": false,
   "toc_position": {},
   "toc_section_display": true,
   "toc_window_display": false
  }
 },
 "nbformat": 4,
 "nbformat_minor": 2
}
